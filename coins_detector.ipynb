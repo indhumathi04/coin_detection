{
 "cells": [
  {
   "cell_type": "code",
   "execution_count": 1,
   "metadata": {},
   "outputs": [],
   "source": [
    "import cv2\n"
   ]
  },
  {
   "cell_type": "code",
   "execution_count": 2,
   "metadata": {},
   "outputs": [],
   "source": [
    "img=cv2.imread(r'D:\\Image Processing with OpenCV (1)\\coins3.jpg')\n",
    "im=img.shape[:2]\n",
    "x=im[1]/500\n",
    "img=cv2.resize(img,(int(im[1]/x),int(im[0]/x)))\n",
    "cv2.imshow('oig',img)\n",
    "cv2.waitKey(0)\n",
    "cv2.destroyAllWindows()"
   ]
  },
  {
   "cell_type": "code",
   "execution_count": 3,
   "metadata": {},
   "outputs": [],
   "source": [
    "import numpy as np\n",
    "import cv2 as cv\n",
    "l=[]\n",
    "blur= cv.medianBlur(img,5)\n",
    "gray=cv2.cvtColor(blur, cv2.COLOR_BGR2GRAY)\n",
    "edges = cv2.Canny(img.copy(),180,255)\n",
    "_,contours, hierarchy = cv2.findContours(edges, cv2.RETR_EXTERNAL, cv2.CHAIN_APPROX_NONE) \n",
    "\n",
    "cnt=[]\n",
    "for i in contours:\n",
    "    if(cv2.contourArea(i)>40):\n",
    "        cnt.append([i])\n",
    "if(len(cnt)<10):\n",
    "    max_r=500//(len(cnt)*2) +20\n",
    "    min_r=max_r-40\n",
    "\n",
    "else:\n",
    "    max_r=0\n",
    "    min_r=0\n",
    "circles =cv.HoughCircles(gray,cv.HOUGH_GRADIENT,1,20,param1=100,param2=40,minRadius=min_r,maxRadius=max_r)\n",
    "circles = np.uint16(np.around(circles))\n",
    "for i in circles[0,:]:\n",
    "    # draw the outer circle\n",
    "    cv.circle(img,(i[0],i[1]),i[2],(0,255,0),2)\n",
    "    # draw the center of the circle\n",
    "    l.append([i[0],i[1]])\n",
    "    cv.circle(img,(i[0],i[1]),2,(0,0,255),3)\n",
    "l.sort()\n",
    "for j in range(len(l)-1):\n",
    "    cv.line(img,(l[j][0],l[j][1]),(l[j+1][0],l[j+1][1]),(0,255,0),2)\n",
    "    \n",
    "cv.imshow('detected circles',img)\n",
    "cv.waitKey(0)\n",
    "cv.destroyAllWindows()"
   ]
  },
  {
   "cell_type": "code",
   "execution_count": null,
   "metadata": {},
   "outputs": [],
   "source": []
  }
 ],
 "metadata": {
  "kernelspec": {
   "display_name": "Python 3",
   "language": "python",
   "name": "python3"
  },
  "language_info": {
   "codemirror_mode": {
    "name": "ipython",
    "version": 3
   },
   "file_extension": ".py",
   "mimetype": "text/x-python",
   "name": "python",
   "nbconvert_exporter": "python",
   "pygments_lexer": "ipython3",
   "version": "3.7.9"
  }
 },
 "nbformat": 4,
 "nbformat_minor": 5
}
