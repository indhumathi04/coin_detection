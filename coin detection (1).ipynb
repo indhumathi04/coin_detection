{
 "cells": [
  {
   "cell_type": "markdown",
   "metadata": {},
   "source": [
    "# simple coin detection on images using OpenCv"
   ]
  },
  {
   "cell_type": "code",
   "execution_count": 7,
   "metadata": {},
   "outputs": [],
   "source": [
    "import cv2 as cv\n",
    "import numpy as np"
   ]
  },
  {
   "cell_type": "code",
   "execution_count": 8,
   "metadata": {},
   "outputs": [],
   "source": [
    "def read_and_resize_image(path):\n",
    "    \"\"\" Read the image from the specified path and to resize the image \"\"\"\n",
    "    img=cv.imread(path)\n",
    "    shape_img=img.shape[:2]\n",
    "    x=shape_img[1]/500 #resizing factor to scale down to width 500\n",
    "    resized_img=cv.resize(img,(int(shape_img[1]/x),int(shape_img[0]/x)))\n",
    "    cv.imshow('image received ',resized_img)\n",
    "    return resized_img"
   ]
  },
  {
   "cell_type": "code",
   "execution_count": 9,
   "metadata": {},
   "outputs": [],
   "source": [
    "def find_min_and_max_radius(contours):\n",
    "    \"\"\" return the minimum and maximum radius of the circles\"\"\"\n",
    "    cnt=[]\n",
    "    for i in contours:\n",
    "        if(cv.contourArea(i)>40):\n",
    "            cnt.append([i])\n",
    "    if(len(cnt)<10):\n",
    "        max_r=500//(len(cnt)*2) +20\n",
    "        min_r=max_r-40\n",
    "    else:\n",
    "        max_r=0\n",
    "        min_r=0\n",
    "    return max_r,min_r"
   ]
  },
  {
   "cell_type": "code",
   "execution_count": 10,
   "metadata": {},
   "outputs": [],
   "source": [
    "def draw_detected_circles(circles,img):\n",
    "    \"\"\" draw circles around detected coins and draw lines connecting the centers of the coins\"\"\"\n",
    "    center_points=[]\n",
    "    for i in circles[0,:]:\n",
    "        # draw the outer circle\n",
    "        cv.circle(img,(i[0],i[1]),i[2],(0,255,0),2)\n",
    "        # draw the center of the circle\n",
    "        center_points.append([i[0],i[1]])\n",
    "        cv.circle(img,(i[0],i[1]),2,(0,0,255),3)\n",
    "    center_points.sort()\n",
    "    for j in range(len(center_points)-1):\n",
    "        #draw line connecting the centers of circles\n",
    "        cv.line(img,(center_points[j][0],center_points[j][1]),(center_points[j+1][0],center_points[j+1][1]),(0,255,0),2)\n",
    "    return img\n"
   ]
  },
  {
   "cell_type": "code",
   "execution_count": 11,
   "metadata": {},
   "outputs": [],
   "source": [
    "image=read_and_resize_image(r'D:\\Image Processing with OpenCV (1)\\coins1.png')\n",
    "blur= cv.medianBlur(image,5)\n",
    "gray=cv.cvtColor(blur, cv.COLOR_BGR2GRAY)\n",
    "edges = cv.Canny(image.copy(),180,255)\n",
    "_,contours, hierarchy = cv.findContours(edges, cv.RETR_EXTERNAL, cv.CHAIN_APPROX_NONE) \n",
    "max_radius,min_radius=find_min_and_max_radius(contours)\n",
    "circles =cv.HoughCircles(gray,cv.HOUGH_GRADIENT,1,20,param1=100,param2=40,minRadius=min_radius,maxRadius=max_radius)\n",
    "circles = np.uint16(np.around(circles))\n",
    "final_image=draw_detected_circles(circles,image)\n",
    "cv.imshow('detected circles',final_image)\n",
    "cv.waitKey(0)\n",
    "cv.destroyAllWindows()"
   ]
  },
  {
   "cell_type": "code",
   "execution_count": null,
   "metadata": {},
   "outputs": [],
   "source": []
  }
 ],
 "metadata": {
  "kernelspec": {
   "display_name": "Python 3",
   "language": "python",
   "name": "python3"
  },
  "language_info": {
   "codemirror_mode": {
    "name": "ipython",
    "version": 3
   },
   "file_extension": ".py",
   "mimetype": "text/x-python",
   "name": "python",
   "nbconvert_exporter": "python",
   "pygments_lexer": "ipython3",
   "version": "3.7.9"
  }
 },
 "nbformat": 4,
 "nbformat_minor": 4
}
